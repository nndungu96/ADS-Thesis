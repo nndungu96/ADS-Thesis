{
 "cells": [
  {
   "cell_type": "code",
   "execution_count": 1,
   "id": "bfb052a7",
   "metadata": {},
   "outputs": [],
   "source": [
    "#import libraries\n",
    "import numpy as np\n",
    "import pandas as pd\n",
    "from sklearn.datasets import make_classification\n",
    "from sklearn.model_selection import cross_val_score\n",
    "from sklearn.model_selection import RepeatedStratifiedKFold, learning_curve,validation_curve\n",
    "from sklearn.linear_model import LogisticRegression\n",
    "from sklearn.preprocessing import LabelEncoder\n",
    "from mlxtend.feature_selection import SequentialFeatureSelector as sfs\n",
    "from sklearn.preprocessing import StandardScaler\n",
    "from sklearn.model_selection import GridSearchCV\n",
    "from sklearn.model_selection import train_test_split\n",
    "from sklearn.metrics import confusion_matrix,accuracy_score,f1_score,classification_report\n",
    "from sklearn.model_selection import StratifiedKFold\n",
    "from sklearn.metrics import mean_absolute_error,cohen_kappa_score\n",
    "import matplotlib.pyplot as plt\n",
    "from sklearn.dummy import DummyClassifier\n",
    "from scipy.stats import norm, chi2\n",
    "from mlxtend.evaluate import paired_ttest_5x2cv"
   ]
  },
  {
   "cell_type": "code",
   "execution_count": 2,
   "id": "f799e5b1",
   "metadata": {},
   "outputs": [],
   "source": [
    "#import data\n",
    "df_metrics = pd.read_csv('Data/metrics_corr.csv')\n",
    "\n",
    "#remove columns that used kl evaluation metric\n",
    "kl_list = [col for col in df_metrics.columns if col.endswith('_kl')]\n",
    "df_metrics.drop(kl_list, axis=1, inplace=True)"
   ]
  },
  {
   "cell_type": "code",
   "execution_count": 3,
   "id": "401142dc",
   "metadata": {},
   "outputs": [],
   "source": [
    "#create age categories\n",
    "df_metrics.loc[(df_metrics['DoB']>1971) & (df_metrics['DoB']<=1983), 'age_class'] = 0\n",
    "df_metrics.loc[(df_metrics['DoB']>1983) & (df_metrics['DoB']<=1994), 'age_class'] = 1\n",
    "df_metrics.loc[(df_metrics['DoB']>1994) & (df_metrics['DoB']<=2000), 'age_class'] = 2\n",
    "df_metrics.loc[(df_metrics['DoB']>2000) & (df_metrics['DoB']<=2011), 'age_class'] = 3\n",
    "df_metrics['age_class'] = pd.to_numeric(df_metrics['age_class'], downcast = 'integer')\n",
    "df_metrics = df_metrics[df_metrics.age_class.isnull() == False]"
   ]
  },
  {
   "cell_type": "code",
   "execution_count": 4,
   "id": "e0c49eed",
   "metadata": {},
   "outputs": [],
   "source": [
    "#create gender category\n",
    "le = LabelEncoder()\n",
    "df_metrics['age_var'] = le.fit_transform(df_metrics['age_class'])\n",
    "df_metrics['gender_var'] = le.fit_transform(df_metrics['Gender'])"
   ]
  },
  {
   "cell_type": "code",
   "execution_count": 6,
   "id": "0442e453",
   "metadata": {},
   "outputs": [],
   "source": [
    "#create lists that store column names for each saliency map\n",
    "\n",
    "aim_list = [col for col in df_metrics.columns if col.startswith('aim_')]\n",
    "rare_list = [col for col in df_metrics.columns if col.startswith('rare_')]\n",
    "qss_list = [col for col in df_metrics.columns if col.startswith('qss_')]\n",
    "lds_list = [col for col in df_metrics.columns if col.startswith('lds_')]\n",
    "imsig_list = [col for col in df_metrics.columns if col.startswith('imsig_')]\n",
    "ikn_list = [col for col in df_metrics.columns if col.startswith('ikn_')]\n",
    "gbvs_list = [col for col in df_metrics.columns if col.startswith('gbvs_')]\n",
    "gaus_list = [col for col in df_metrics.columns if col.startswith('gauss_')]\n",
    "fes_list = [col for col in df_metrics.columns if col.startswith('fes_')]\n",
    "dva_list = [col for col in df_metrics.columns if col.startswith('dva_')]\n",
    "cvs_list = [col for col in df_metrics.columns if col.startswith('cvs_')]\n",
    "cas_list = [col for col in df_metrics.columns if col.startswith('cas_')]\n",
    "dgi_list = [col for col in df_metrics.columns if col.startswith('dgi_')]\n",
    "dgii_list = [col for col in df_metrics.columns if col.startswith('dgii_')]\n",
    "dgiie_list = [col for col in df_metrics.columns if col.startswith('dgiie_')]\n",
    "icf_list = [col for col in df_metrics.columns if col.startswith('icf_')]\n",
    "all_pred = icf_list + dgiie_list + dgii_list + dgi_list + cas_list + cvs_list + dva_list + fes_list + gbvs_list + ikn_list + imsig_list + lds_list + qss_list + rare_list + aim_list\n",
    "d_aim_list = [col for col in df_metrics.columns if col.startswith('d_aim_')]"
   ]
  },
  {
   "cell_type": "code",
   "execution_count": 8,
   "id": "069326bc",
   "metadata": {},
   "outputs": [],
   "source": [
    "#import selected columns for age and sex\n",
    "df_age_cols = pd.read_csv('Data/age_selectk.csv')\n",
    "df_sex_cols = pd.read_csv('Data/sex_selectk.csv')"
   ]
  },
  {
   "cell_type": "code",
   "execution_count": 9,
   "id": "6cdb3509",
   "metadata": {},
   "outputs": [],
   "source": [
    "#create y variables\n",
    "ya = df_metrics['age_class']\n",
    "yg = df_metrics['gender_var']"
   ]
  },
  {
   "cell_type": "code",
   "execution_count": 76,
   "id": "a533e43e",
   "metadata": {},
   "outputs": [],
   "source": [
    "#get column names of the top 50 most relevant variables\n",
    "temp = df_age_cols.nlargest(50,'fs_score')\n",
    "cols = temp['col_name'].tolist()"
   ]
  },
  {
   "cell_type": "markdown",
   "id": "ee97c035",
   "metadata": {},
   "source": [
    "## Classify age data"
   ]
  },
  {
   "cell_type": "code",
   "execution_count": 11,
   "id": "9faf2393",
   "metadata": {},
   "outputs": [],
   "source": [
    "#create logistric regression model\n",
    "lreg = LogisticRegression(max_iter=2000)"
   ]
  },
  {
   "cell_type": "code",
   "execution_count": 21,
   "id": "f99b7c30",
   "metadata": {},
   "outputs": [],
   "source": [
    "#split data into train and test data and scale\n",
    "X_train, X_test, y_train, y_test = train_test_split(df_metrics[cols], ya, test_size=0.2,random_state=131) \n",
    "y_train = le.fit_transform(y_train)\n",
    "sc = StandardScaler()\n",
    "X_train = sc.fit_transform(X_train)\n",
    "X_test = sc.transform(X_test)"
   ]
  },
  {
   "cell_type": "code",
   "execution_count": 197,
   "id": "88b11ce4",
   "metadata": {
    "scrolled": false
   },
   "outputs": [
    {
     "name": "stderr",
     "output_type": "stream",
     "text": [
      "[Parallel(n_jobs=1)]: Using backend SequentialBackend with 1 concurrent workers.\n",
      "[Parallel(n_jobs=1)]: Done   1 out of   1 | elapsed:    0.0s remaining:    0.0s\n",
      "[Parallel(n_jobs=1)]: Done  50 out of  50 | elapsed:    3.2s finished\n",
      "\n",
      "[2022-06-27 00:12:21] Features: 1/50 -- score: 0.30440492476060194[Parallel(n_jobs=1)]: Using backend SequentialBackend with 1 concurrent workers.\n",
      "[Parallel(n_jobs=1)]: Done   1 out of   1 | elapsed:    0.0s remaining:    0.0s\n",
      "[Parallel(n_jobs=1)]: Done  49 out of  49 | elapsed:    3.5s finished\n",
      "\n",
      "[2022-06-27 00:12:25] Features: 2/50 -- score: 0.306812585499316[Parallel(n_jobs=1)]: Using backend SequentialBackend with 1 concurrent workers.\n",
      "[Parallel(n_jobs=1)]: Done   1 out of   1 | elapsed:    0.0s remaining:    0.0s\n",
      "[Parallel(n_jobs=1)]: Done  48 out of  48 | elapsed:    5.2s finished\n",
      "\n",
      "[2022-06-27 00:12:30] Features: 3/50 -- score: 0.2952393980848153[Parallel(n_jobs=1)]: Using backend SequentialBackend with 1 concurrent workers.\n",
      "[Parallel(n_jobs=1)]: Done   1 out of   1 | elapsed:    0.0s remaining:    0.0s\n",
      "[Parallel(n_jobs=1)]: Done  47 out of  47 | elapsed:    5.9s finished\n",
      "\n",
      "[2022-06-27 00:12:36] Features: 4/50 -- score: 0.3022435020519836[Parallel(n_jobs=1)]: Using backend SequentialBackend with 1 concurrent workers.\n",
      "[Parallel(n_jobs=1)]: Done   1 out of   1 | elapsed:    0.0s remaining:    0.0s\n",
      "[Parallel(n_jobs=1)]: Done  46 out of  46 | elapsed:    6.7s finished\n",
      "\n",
      "[2022-06-27 00:12:43] Features: 5/50 -- score: 0.31387140902872773[Parallel(n_jobs=1)]: Using backend SequentialBackend with 1 concurrent workers.\n",
      "[Parallel(n_jobs=1)]: Done   1 out of   1 | elapsed:    0.0s remaining:    0.0s\n",
      "[Parallel(n_jobs=1)]: Done  45 out of  45 | elapsed:    6.9s finished\n",
      "\n",
      "[2022-06-27 00:12:50] Features: 6/50 -- score: 0.31592339261285907[Parallel(n_jobs=1)]: Using backend SequentialBackend with 1 concurrent workers.\n",
      "[Parallel(n_jobs=1)]: Done   1 out of   1 | elapsed:    0.1s remaining:    0.0s\n",
      "[Parallel(n_jobs=1)]: Done  44 out of  44 | elapsed:    9.4s finished\n",
      "\n",
      "[2022-06-27 00:12:59] Features: 7/50 -- score: 0.3417236662106703[Parallel(n_jobs=1)]: Using backend SequentialBackend with 1 concurrent workers.\n",
      "[Parallel(n_jobs=1)]: Done   1 out of   1 | elapsed:    0.2s remaining:    0.0s\n",
      "[Parallel(n_jobs=1)]: Done  43 out of  43 | elapsed:    9.7s finished\n",
      "\n",
      "[2022-06-27 00:13:09] Features: 8/50 -- score: 0.36060191518467855[Parallel(n_jobs=1)]: Using backend SequentialBackend with 1 concurrent workers.\n",
      "[Parallel(n_jobs=1)]: Done   1 out of   1 | elapsed:    0.2s remaining:    0.0s\n",
      "[Parallel(n_jobs=1)]: Done  42 out of  42 | elapsed:   14.6s finished\n",
      "\n",
      "[2022-06-27 00:13:24] Features: 9/50 -- score: 0.35592339261285905[Parallel(n_jobs=1)]: Using backend SequentialBackend with 1 concurrent workers.\n",
      "[Parallel(n_jobs=1)]: Done   1 out of   1 | elapsed:    0.2s remaining:    0.0s\n",
      "[Parallel(n_jobs=1)]: Done  41 out of  41 | elapsed:   11.4s finished\n",
      "\n",
      "[2022-06-27 00:13:35] Features: 10/50 -- score: 0.35354309165526676[Parallel(n_jobs=1)]: Using backend SequentialBackend with 1 concurrent workers.\n",
      "[Parallel(n_jobs=1)]: Done   1 out of   1 | elapsed:    0.2s remaining:    0.0s\n",
      "[Parallel(n_jobs=1)]: Done  40 out of  40 | elapsed:   12.2s finished\n",
      "\n",
      "[2022-06-27 00:13:48] Features: 11/50 -- score: 0.3488372093023256[Parallel(n_jobs=1)]: Using backend SequentialBackend with 1 concurrent workers.\n",
      "[Parallel(n_jobs=1)]: Done   1 out of   1 | elapsed:    0.3s remaining:    0.0s\n",
      "[Parallel(n_jobs=1)]: Done  39 out of  39 | elapsed:   13.3s finished\n",
      "\n",
      "[2022-06-27 00:14:01] Features: 12/50 -- score: 0.34651162790697676[Parallel(n_jobs=1)]: Using backend SequentialBackend with 1 concurrent workers.\n",
      "[Parallel(n_jobs=1)]: Done   1 out of   1 | elapsed:    0.4s remaining:    0.0s\n",
      "[Parallel(n_jobs=1)]: Done  38 out of  38 | elapsed:   13.2s finished\n",
      "\n",
      "[2022-06-27 00:14:14] Features: 13/50 -- score: 0.34415868673050615[Parallel(n_jobs=1)]: Using backend SequentialBackend with 1 concurrent workers.\n",
      "[Parallel(n_jobs=1)]: Done   1 out of   1 | elapsed:    0.3s remaining:    0.0s\n",
      "[Parallel(n_jobs=1)]: Done  37 out of  37 | elapsed:   13.0s finished\n",
      "\n",
      "[2022-06-27 00:14:27] Features: 14/50 -- score: 0.3442134062927496[Parallel(n_jobs=1)]: Using backend SequentialBackend with 1 concurrent workers.\n",
      "[Parallel(n_jobs=1)]: Done   1 out of   1 | elapsed:    0.3s remaining:    0.0s\n",
      "[Parallel(n_jobs=1)]: Done  36 out of  36 | elapsed:   13.3s finished\n",
      "\n",
      "[2022-06-27 00:14:41] Features: 15/50 -- score: 0.3394801641586867[Parallel(n_jobs=1)]: Using backend SequentialBackend with 1 concurrent workers.\n",
      "[Parallel(n_jobs=1)]: Done   1 out of   1 | elapsed:    0.3s remaining:    0.0s\n",
      "[Parallel(n_jobs=1)]: Done  35 out of  35 | elapsed:   14.3s finished\n",
      "\n",
      "[2022-06-27 00:14:55] Features: 16/50 -- score: 0.33948016415868676[Parallel(n_jobs=1)]: Using backend SequentialBackend with 1 concurrent workers.\n",
      "[Parallel(n_jobs=1)]: Done   1 out of   1 | elapsed:    0.4s remaining:    0.0s\n",
      "[Parallel(n_jobs=1)]: Done  34 out of  34 | elapsed:   13.4s finished\n",
      "\n",
      "[2022-06-27 00:15:09] Features: 17/50 -- score: 0.33709986320109436[Parallel(n_jobs=1)]: Using backend SequentialBackend with 1 concurrent workers.\n",
      "[Parallel(n_jobs=1)]: Done   1 out of   1 | elapsed:    0.3s remaining:    0.0s\n",
      "[Parallel(n_jobs=1)]: Done  33 out of  33 | elapsed:   13.8s finished\n",
      "\n",
      "[2022-06-27 00:15:23] Features: 18/50 -- score: 0.34656634746922027[Parallel(n_jobs=1)]: Using backend SequentialBackend with 1 concurrent workers.\n",
      "[Parallel(n_jobs=1)]: Done   1 out of   1 | elapsed:    0.3s remaining:    0.0s\n",
      "[Parallel(n_jobs=1)]: Done  32 out of  32 | elapsed:   13.8s finished\n",
      "\n",
      "[2022-06-27 00:15:36] Features: 19/50 -- score: 0.3441860465116279[Parallel(n_jobs=1)]: Using backend SequentialBackend with 1 concurrent workers.\n",
      "[Parallel(n_jobs=1)]: Done   1 out of   1 | elapsed:    0.3s remaining:    0.0s\n",
      "[Parallel(n_jobs=1)]: Done  31 out of  31 | elapsed:   13.2s finished\n",
      "\n",
      "[2022-06-27 00:15:50] Features: 20/50 -- score: 0.33950752393980854[Parallel(n_jobs=1)]: Using backend SequentialBackend with 1 concurrent workers.\n",
      "[Parallel(n_jobs=1)]: Done   1 out of   1 | elapsed:    0.3s remaining:    0.0s\n",
      "[Parallel(n_jobs=1)]: Done  30 out of  30 | elapsed:   13.2s finished\n",
      "\n",
      "[2022-06-27 00:16:03] Features: 21/50 -- score: 0.3370177838577292[Parallel(n_jobs=1)]: Using backend SequentialBackend with 1 concurrent workers.\n",
      "[Parallel(n_jobs=1)]: Done   1 out of   1 | elapsed:    0.3s remaining:    0.0s\n",
      "[Parallel(n_jobs=1)]: Done  29 out of  29 | elapsed:   12.9s finished\n",
      "\n",
      "[2022-06-27 00:16:16] Features: 22/50 -- score: 0.34410396716826264[Parallel(n_jobs=1)]: Using backend SequentialBackend with 1 concurrent workers.\n",
      "[Parallel(n_jobs=1)]: Done   1 out of   1 | elapsed:    0.4s remaining:    0.0s\n",
      "[Parallel(n_jobs=1)]: Done  28 out of  28 | elapsed:   13.2s finished\n",
      "\n",
      "[2022-06-27 00:16:29] Features: 23/50 -- score: 0.34410396716826264[Parallel(n_jobs=1)]: Using backend SequentialBackend with 1 concurrent workers.\n",
      "[Parallel(n_jobs=1)]: Done   1 out of   1 | elapsed:    0.5s remaining:    0.0s\n",
      "[Parallel(n_jobs=1)]: Done  27 out of  27 | elapsed:   13.1s finished\n",
      "\n",
      "[2022-06-27 00:16:43] Features: 24/50 -- score: 0.34410396716826264[Parallel(n_jobs=1)]: Using backend SequentialBackend with 1 concurrent workers.\n",
      "[Parallel(n_jobs=1)]: Done   1 out of   1 | elapsed:    0.4s remaining:    0.0s\n",
      "[Parallel(n_jobs=1)]: Done  26 out of  26 | elapsed:   13.2s finished\n",
      "\n",
      "[2022-06-27 00:16:56] Features: 25/50 -- score: 0.3440492476060192[Parallel(n_jobs=1)]: Using backend SequentialBackend with 1 concurrent workers.\n",
      "[Parallel(n_jobs=1)]: Done   1 out of   1 | elapsed:    0.4s remaining:    0.0s\n",
      "[Parallel(n_jobs=1)]: Done  25 out of  25 | elapsed:   12.7s finished\n",
      "\n",
      "[2022-06-27 00:17:09] Features: 26/50 -- score: 0.33233926128590974[Parallel(n_jobs=1)]: Using backend SequentialBackend with 1 concurrent workers.\n",
      "[Parallel(n_jobs=1)]: Done   1 out of   1 | elapsed:    0.3s remaining:    0.0s\n",
      "[Parallel(n_jobs=1)]: Done  24 out of  24 | elapsed:   12.4s finished\n",
      "\n",
      "[2022-06-27 00:17:21] Features: 27/50 -- score: 0.332311901504788[Parallel(n_jobs=1)]: Using backend SequentialBackend with 1 concurrent workers.\n",
      "[Parallel(n_jobs=1)]: Done   1 out of   1 | elapsed:    0.4s remaining:    0.0s\n"
     ]
    },
    {
     "name": "stderr",
     "output_type": "stream",
     "text": [
      "[Parallel(n_jobs=1)]: Done  23 out of  23 | elapsed:   11.6s finished\n",
      "\n",
      "[2022-06-27 00:17:33] Features: 28/50 -- score: 0.3299589603283174[Parallel(n_jobs=1)]: Using backend SequentialBackend with 1 concurrent workers.\n",
      "[Parallel(n_jobs=1)]: Done   1 out of   1 | elapsed:    0.4s remaining:    0.0s\n",
      "[Parallel(n_jobs=1)]: Done  22 out of  22 | elapsed:   11.1s finished\n",
      "\n",
      "[2022-06-27 00:17:44] Features: 29/50 -- score: 0.33004103967168263[Parallel(n_jobs=1)]: Using backend SequentialBackend with 1 concurrent workers.\n",
      "[Parallel(n_jobs=1)]: Done   1 out of   1 | elapsed:    0.4s remaining:    0.0s\n",
      "[Parallel(n_jobs=1)]: Done  21 out of  21 | elapsed:    9.5s finished\n",
      "\n",
      "[2022-06-27 00:17:53] Features: 30/50 -- score: 0.327688098495212[Parallel(n_jobs=1)]: Using backend SequentialBackend with 1 concurrent workers.\n",
      "[Parallel(n_jobs=1)]: Done   1 out of   1 | elapsed:    0.2s remaining:    0.0s\n",
      "[Parallel(n_jobs=1)]: Done  20 out of  20 | elapsed:    6.9s finished\n",
      "\n",
      "[2022-06-27 00:18:01] Features: 31/50 -- score: 0.3253898768809849[Parallel(n_jobs=1)]: Using backend SequentialBackend with 1 concurrent workers.\n",
      "[Parallel(n_jobs=1)]: Done   1 out of   1 | elapsed:    0.2s remaining:    0.0s\n",
      "[Parallel(n_jobs=1)]: Done  19 out of  19 | elapsed:    5.1s finished\n",
      "\n",
      "[2022-06-27 00:18:06] Features: 32/50 -- score: 0.32298221614227085[Parallel(n_jobs=1)]: Using backend SequentialBackend with 1 concurrent workers.\n",
      "[Parallel(n_jobs=1)]: Done   1 out of   1 | elapsed:    0.3s remaining:    0.0s\n",
      "[Parallel(n_jobs=1)]: Done  18 out of  18 | elapsed:    4.2s finished\n",
      "\n",
      "[2022-06-27 00:18:10] Features: 33/50 -- score: 0.3276333789329685[Parallel(n_jobs=1)]: Using backend SequentialBackend with 1 concurrent workers.\n",
      "[Parallel(n_jobs=1)]: Done   1 out of   1 | elapsed:    0.4s remaining:    0.0s\n",
      "[Parallel(n_jobs=1)]: Done  17 out of  17 | elapsed:    4.6s finished\n",
      "\n",
      "[2022-06-27 00:18:15] Features: 34/50 -- score: 0.3252257181942545[Parallel(n_jobs=1)]: Using backend SequentialBackend with 1 concurrent workers.\n",
      "[Parallel(n_jobs=1)]: Done   1 out of   1 | elapsed:    0.3s remaining:    0.0s\n",
      "[Parallel(n_jobs=1)]: Done  16 out of  16 | elapsed:    3.7s finished\n",
      "\n",
      "[2022-06-27 00:18:19] Features: 35/50 -- score: 0.3183857729138167[Parallel(n_jobs=1)]: Using backend SequentialBackend with 1 concurrent workers.\n",
      "[Parallel(n_jobs=1)]: Done   1 out of   1 | elapsed:    0.3s remaining:    0.0s\n",
      "[Parallel(n_jobs=1)]: Done  15 out of  15 | elapsed:    4.3s finished\n",
      "\n",
      "[2022-06-27 00:18:23] Features: 36/50 -- score: 0.31606019151846787[Parallel(n_jobs=1)]: Using backend SequentialBackend with 1 concurrent workers.\n",
      "[Parallel(n_jobs=1)]: Done   1 out of   1 | elapsed:    0.3s remaining:    0.0s\n",
      "[Parallel(n_jobs=1)]: Done  14 out of  14 | elapsed:    5.1s finished\n",
      "\n",
      "[2022-06-27 00:18:28] Features: 37/50 -- score: 0.3114090287277702[Parallel(n_jobs=1)]: Using backend SequentialBackend with 1 concurrent workers.\n",
      "[Parallel(n_jobs=1)]: Done   1 out of   1 | elapsed:    0.3s remaining:    0.0s\n",
      "[Parallel(n_jobs=1)]: Done  13 out of  13 | elapsed:    4.5s finished\n",
      "\n",
      "[2022-06-27 00:18:33] Features: 38/50 -- score: 0.3090834473324213[Parallel(n_jobs=1)]: Using backend SequentialBackend with 1 concurrent workers.\n",
      "[Parallel(n_jobs=1)]: Done   1 out of   1 | elapsed:    0.3s remaining:    0.0s\n",
      "[Parallel(n_jobs=1)]: Done  12 out of  12 | elapsed:    3.6s finished\n",
      "\n",
      "[2022-06-27 00:18:37] Features: 39/50 -- score: 0.3113543091655267[Parallel(n_jobs=1)]: Using backend SequentialBackend with 1 concurrent workers.\n",
      "[Parallel(n_jobs=1)]: Done   1 out of   1 | elapsed:    0.2s remaining:    0.0s\n",
      "[Parallel(n_jobs=1)]: Done  11 out of  11 | elapsed:    3.1s finished\n",
      "\n",
      "[2022-06-27 00:18:40] Features: 40/50 -- score: 0.3113543091655267[Parallel(n_jobs=1)]: Using backend SequentialBackend with 1 concurrent workers.\n",
      "[Parallel(n_jobs=1)]: Done   1 out of   1 | elapsed:    0.3s remaining:    0.0s\n",
      "[Parallel(n_jobs=1)]: Done  10 out of  10 | elapsed:    3.4s finished\n",
      "\n",
      "[2022-06-27 00:18:43] Features: 41/50 -- score: 0.30664842681258553[Parallel(n_jobs=1)]: Using backend SequentialBackend with 1 concurrent workers.\n",
      "[Parallel(n_jobs=1)]: Done   1 out of   1 | elapsed:    0.2s remaining:    0.0s\n",
      "[Parallel(n_jobs=1)]: Done   9 out of   9 | elapsed:    2.4s finished\n",
      "\n",
      "[2022-06-27 00:18:46] Features: 42/50 -- score: 0.3042954856361149[Parallel(n_jobs=1)]: Using backend SequentialBackend with 1 concurrent workers.\n",
      "[Parallel(n_jobs=1)]: Done   1 out of   1 | elapsed:    0.2s remaining:    0.0s\n",
      "[Parallel(n_jobs=1)]: Done   8 out of   8 | elapsed:    2.3s finished\n",
      "\n",
      "[2022-06-27 00:18:48] Features: 43/50 -- score: 0.29731874145006837[Parallel(n_jobs=1)]: Using backend SequentialBackend with 1 concurrent workers.\n",
      "[Parallel(n_jobs=1)]: Done   1 out of   1 | elapsed:    0.2s remaining:    0.0s\n",
      "[Parallel(n_jobs=1)]: Done   7 out of   7 | elapsed:    2.2s finished\n",
      "\n",
      "[2022-06-27 00:18:50] Features: 44/50 -- score: 0.29731874145006837[Parallel(n_jobs=1)]: Using backend SequentialBackend with 1 concurrent workers.\n",
      "[Parallel(n_jobs=1)]: Done   1 out of   1 | elapsed:    0.2s remaining:    0.0s\n",
      "[Parallel(n_jobs=1)]: Done   6 out of   6 | elapsed:    2.3s finished\n",
      "\n",
      "[2022-06-27 00:18:53] Features: 45/50 -- score: 0.2996443228454172[Parallel(n_jobs=1)]: Using backend SequentialBackend with 1 concurrent workers.\n",
      "[Parallel(n_jobs=1)]: Done   1 out of   1 | elapsed:    0.3s remaining:    0.0s\n",
      "[Parallel(n_jobs=1)]: Done   5 out of   5 | elapsed:    2.2s finished\n",
      "\n",
      "[2022-06-27 00:18:55] Features: 46/50 -- score: 0.2972640218878249[Parallel(n_jobs=1)]: Using backend SequentialBackend with 1 concurrent workers.\n",
      "[Parallel(n_jobs=1)]: Done   1 out of   1 | elapsed:    0.2s remaining:    0.0s\n",
      "[Parallel(n_jobs=1)]: Done   4 out of   4 | elapsed:    1.0s finished\n",
      "\n",
      "[2022-06-27 00:18:56] Features: 47/50 -- score: 0.285608755129959[Parallel(n_jobs=1)]: Using backend SequentialBackend with 1 concurrent workers.\n",
      "[Parallel(n_jobs=1)]: Done   1 out of   1 | elapsed:    0.2s remaining:    0.0s\n",
      "[Parallel(n_jobs=1)]: Done   3 out of   3 | elapsed:    0.8s finished\n",
      "\n",
      "[2022-06-27 00:18:57] Features: 48/50 -- score: 0.28325581395348837[Parallel(n_jobs=1)]: Using backend SequentialBackend with 1 concurrent workers.\n",
      "[Parallel(n_jobs=1)]: Done   1 out of   1 | elapsed:    0.2s remaining:    0.0s\n",
      "[Parallel(n_jobs=1)]: Done   2 out of   2 | elapsed:    0.6s finished\n",
      "\n",
      "[2022-06-27 00:18:58] Features: 49/50 -- score: 0.27389876880984954[Parallel(n_jobs=1)]: Using backend SequentialBackend with 1 concurrent workers.\n",
      "[Parallel(n_jobs=1)]: Done   1 out of   1 | elapsed:    0.2s remaining:    0.0s\n",
      "[Parallel(n_jobs=1)]: Done   1 out of   1 | elapsed:    0.2s finished\n",
      "\n",
      "[2022-06-27 00:18:58] Features: 50/50 -- score: 0.2668673050615595"
     ]
    }
   ],
   "source": [
    "#run sequential forward feature selection to pick number fo variables\n",
    "sfs2 = sfs(lreg, k_features=50, forward=True, verbose=2, scoring='accuracy')\n",
    "sfs2 = sfs2.fit(X_train, y_train);"
   ]
  },
  {
   "cell_type": "code",
   "execution_count": 198,
   "id": "2844a8ee",
   "metadata": {},
   "outputs": [
    {
     "name": "stderr",
     "output_type": "stream",
     "text": [
      "[Parallel(n_jobs=1)]: Using backend SequentialBackend with 1 concurrent workers.\n",
      "[Parallel(n_jobs=1)]: Done   1 out of   1 | elapsed:    0.0s remaining:    0.0s\n",
      "[Parallel(n_jobs=1)]: Done  50 out of  50 | elapsed:    1.2s finished\n",
      "\n",
      "[2022-06-27 00:19:00] Features: 1/8 -- score: 0.30440492476060194[Parallel(n_jobs=1)]: Using backend SequentialBackend with 1 concurrent workers.\n",
      "[Parallel(n_jobs=1)]: Done   1 out of   1 | elapsed:    0.0s remaining:    0.0s\n",
      "[Parallel(n_jobs=1)]: Done  49 out of  49 | elapsed:    1.8s finished\n",
      "\n",
      "[2022-06-27 00:19:01] Features: 2/8 -- score: 0.306812585499316[Parallel(n_jobs=1)]: Using backend SequentialBackend with 1 concurrent workers.\n",
      "[Parallel(n_jobs=1)]: Done   1 out of   1 | elapsed:    0.0s remaining:    0.0s\n",
      "[Parallel(n_jobs=1)]: Done  48 out of  48 | elapsed:    2.5s finished\n",
      "\n",
      "[2022-06-27 00:19:04] Features: 3/8 -- score: 0.2952393980848153[Parallel(n_jobs=1)]: Using backend SequentialBackend with 1 concurrent workers.\n",
      "[Parallel(n_jobs=1)]: Done   1 out of   1 | elapsed:    0.0s remaining:    0.0s\n",
      "[Parallel(n_jobs=1)]: Done  47 out of  47 | elapsed:    2.8s finished\n",
      "\n",
      "[2022-06-27 00:19:07] Features: 4/8 -- score: 0.3022435020519836[Parallel(n_jobs=1)]: Using backend SequentialBackend with 1 concurrent workers.\n",
      "[Parallel(n_jobs=1)]: Done   1 out of   1 | elapsed:    0.0s remaining:    0.0s\n",
      "[Parallel(n_jobs=1)]: Done  46 out of  46 | elapsed:    3.2s finished\n",
      "\n",
      "[2022-06-27 00:19:10] Features: 5/8 -- score: 0.31387140902872773[Parallel(n_jobs=1)]: Using backend SequentialBackend with 1 concurrent workers.\n",
      "[Parallel(n_jobs=1)]: Done   1 out of   1 | elapsed:    0.0s remaining:    0.0s\n",
      "[Parallel(n_jobs=1)]: Done  45 out of  45 | elapsed:    3.2s finished\n",
      "\n",
      "[2022-06-27 00:19:13] Features: 6/8 -- score: 0.31592339261285907[Parallel(n_jobs=1)]: Using backend SequentialBackend with 1 concurrent workers.\n",
      "[Parallel(n_jobs=1)]: Done   1 out of   1 | elapsed:    0.0s remaining:    0.0s\n",
      "[Parallel(n_jobs=1)]: Done  44 out of  44 | elapsed:    4.2s finished\n",
      "\n",
      "[2022-06-27 00:19:18] Features: 7/8 -- score: 0.3417236662106703[Parallel(n_jobs=1)]: Using backend SequentialBackend with 1 concurrent workers.\n",
      "[Parallel(n_jobs=1)]: Done   1 out of   1 | elapsed:    0.1s remaining:    0.0s\n",
      "[Parallel(n_jobs=1)]: Done  43 out of  43 | elapsed:    4.1s finished\n",
      "\n",
      "[2022-06-27 00:19:22] Features: 8/8 -- score: 0.36060191518467855"
     ]
    }
   ],
   "source": [
    "#8 variables selected \n",
    "sfs1 = sfs(lreg, k_features=8, forward=True, verbose=2, scoring='accuracy')\n",
    "sfs1 = sfs1.fit(X_train, y_train);"
   ]
  },
  {
   "cell_type": "code",
   "execution_count": 199,
   "id": "2737d7c8",
   "metadata": {},
   "outputs": [
    {
     "name": "stdout",
     "output_type": "stream",
     "text": [
      "['3', '4', '12', '16', '17', '20', '34', '49']\n"
     ]
    }
   ],
   "source": [
    "#get feature names of 8 selected variables\n",
    "feat_names = list(sfs1.k_feature_names_)\n",
    "print(feat_names)"
   ]
  },
  {
   "cell_type": "code",
   "execution_count": 77,
   "id": "7754af62",
   "metadata": {},
   "outputs": [],
   "source": [
    "feat_names = ['3', '4', '12', '16', '17', '20', '34', '49']\n",
    "feat_num_age = [3,4,12,16,17,20,34,49]"
   ]
  },
  {
   "cell_type": "code",
   "execution_count": 23,
   "id": "5e325582",
   "metadata": {},
   "outputs": [],
   "source": [
    "#create x_train and x_test selecting only the 8 relevant variables\n",
    "X_age = np.take(X_train, feat_names, axis = 1)\n",
    "X_test = np.take(X_test, feat_names, axis = 1)"
   ]
  },
  {
   "cell_type": "code",
   "execution_count": 80,
   "id": "f5a785a2",
   "metadata": {},
   "outputs": [
    {
     "data": {
      "text/plain": [
       "['qss_auc',\n",
       " 'qss_sauc',\n",
       " 'cvs_nss',\n",
       " 'cvs_cc',\n",
       " 'gbvs_sim',\n",
       " 'qss_sim',\n",
       " 'rare_ig',\n",
       " 'imsig_sim']"
      ]
     },
     "execution_count": 80,
     "metadata": {},
     "output_type": "execute_result"
    }
   ],
   "source": [
    "#get the column names of relevant variables\n",
    "col_name = temp.iloc[feat_num_age, 1].tolist()\n",
    "col_name"
   ]
  },
  {
   "cell_type": "markdown",
   "id": "5d606322",
   "metadata": {},
   "source": [
    "## hyperparameter tuning"
   ]
  },
  {
   "cell_type": "code",
   "execution_count": 73,
   "id": "1890a472",
   "metadata": {},
   "outputs": [],
   "source": [
    "#define parameter ranges\n",
    "solvers = ['newton-cg', 'lbfgs', 'liblinear', 'sag', 'saga']\n",
    "penalty = ['l2','l1', 'elasticnet']\n",
    "c_values = [100, 10, 1.0, 0.1, 0.01, 0.001, 0.0001]"
   ]
  },
  {
   "cell_type": "code",
   "execution_count": 202,
   "id": "e1744520",
   "metadata": {},
   "outputs": [
    {
     "name": "stdout",
     "output_type": "stream",
     "text": [
      "Best: 0.342660 using {'C': 1.0, 'penalty': 'l2', 'solver': 'liblinear'}\n"
     ]
    },
    {
     "name": "stderr",
     "output_type": "stream",
     "text": [
      "C:\\Users\\njeri\\anaconda3\\lib\\site-packages\\sklearn\\model_selection\\_validation.py:372: FitFailedWarning: \n",
      "8400 fits failed out of a total of 15750.\n",
      "The score on these train-test partitions for these parameters will be set to 0.\n",
      "If these failures are not expected, you can try to debug them by setting error_score='raise'.\n",
      "\n",
      "Below are more details about the failures:\n",
      "--------------------------------------------------------------------------------\n",
      "1050 fits failed with the following error:\n",
      "Traceback (most recent call last):\n",
      "  File \"C:\\Users\\njeri\\anaconda3\\lib\\site-packages\\sklearn\\model_selection\\_validation.py\", line 680, in _fit_and_score\n",
      "    execution. Reducing this number can be useful to avoid an\n",
      "  File \"C:\\Users\\njeri\\anaconda3\\lib\\site-packages\\sklearn\\linear_model\\_logistic.py\", line 1461, in fit\n",
      "    Parameters\n",
      "  File \"C:\\Users\\njeri\\anaconda3\\lib\\site-packages\\sklearn\\linear_model\\_logistic.py\", line 447, in _check_solver\n",
      "    raise ValueError(\"Solver %s supports only \"\n",
      "ValueError: Solver newton-cg supports only 'l2' or 'none' penalties, got l1 penalty.\n",
      "\n",
      "--------------------------------------------------------------------------------\n",
      "1050 fits failed with the following error:\n",
      "Traceback (most recent call last):\n",
      "  File \"C:\\Users\\njeri\\anaconda3\\lib\\site-packages\\sklearn\\model_selection\\_validation.py\", line 680, in _fit_and_score\n",
      "    execution. Reducing this number can be useful to avoid an\n",
      "  File \"C:\\Users\\njeri\\anaconda3\\lib\\site-packages\\sklearn\\linear_model\\_logistic.py\", line 1461, in fit\n",
      "    Parameters\n",
      "  File \"C:\\Users\\njeri\\anaconda3\\lib\\site-packages\\sklearn\\linear_model\\_logistic.py\", line 447, in _check_solver\n",
      "    raise ValueError(\"Solver %s supports only \"\n",
      "ValueError: Solver lbfgs supports only 'l2' or 'none' penalties, got l1 penalty.\n",
      "\n",
      "--------------------------------------------------------------------------------\n",
      "1050 fits failed with the following error:\n",
      "Traceback (most recent call last):\n",
      "  File \"C:\\Users\\njeri\\anaconda3\\lib\\site-packages\\sklearn\\model_selection\\_validation.py\", line 680, in _fit_and_score\n",
      "    execution. Reducing this number can be useful to avoid an\n",
      "  File \"C:\\Users\\njeri\\anaconda3\\lib\\site-packages\\sklearn\\linear_model\\_logistic.py\", line 1461, in fit\n",
      "    Parameters\n",
      "  File \"C:\\Users\\njeri\\anaconda3\\lib\\site-packages\\sklearn\\linear_model\\_logistic.py\", line 447, in _check_solver\n",
      "    raise ValueError(\"Solver %s supports only \"\n",
      "ValueError: Solver sag supports only 'l2' or 'none' penalties, got l1 penalty.\n",
      "\n",
      "--------------------------------------------------------------------------------\n",
      "1050 fits failed with the following error:\n",
      "Traceback (most recent call last):\n",
      "  File \"C:\\Users\\njeri\\anaconda3\\lib\\site-packages\\sklearn\\model_selection\\_validation.py\", line 680, in _fit_and_score\n",
      "    execution. Reducing this number can be useful to avoid an\n",
      "  File \"C:\\Users\\njeri\\anaconda3\\lib\\site-packages\\sklearn\\linear_model\\_logistic.py\", line 1461, in fit\n",
      "    Parameters\n",
      "  File \"C:\\Users\\njeri\\anaconda3\\lib\\site-packages\\sklearn\\linear_model\\_logistic.py\", line 447, in _check_solver\n",
      "    raise ValueError(\"Solver %s supports only \"\n",
      "ValueError: Solver newton-cg supports only 'l2' or 'none' penalties, got elasticnet penalty.\n",
      "\n",
      "--------------------------------------------------------------------------------\n",
      "1050 fits failed with the following error:\n",
      "Traceback (most recent call last):\n",
      "  File \"C:\\Users\\njeri\\anaconda3\\lib\\site-packages\\sklearn\\model_selection\\_validation.py\", line 680, in _fit_and_score\n",
      "    execution. Reducing this number can be useful to avoid an\n",
      "  File \"C:\\Users\\njeri\\anaconda3\\lib\\site-packages\\sklearn\\linear_model\\_logistic.py\", line 1461, in fit\n",
      "    Parameters\n",
      "  File \"C:\\Users\\njeri\\anaconda3\\lib\\site-packages\\sklearn\\linear_model\\_logistic.py\", line 447, in _check_solver\n",
      "    raise ValueError(\"Solver %s supports only \"\n",
      "ValueError: Solver lbfgs supports only 'l2' or 'none' penalties, got elasticnet penalty.\n",
      "\n",
      "--------------------------------------------------------------------------------\n",
      "1050 fits failed with the following error:\n",
      "Traceback (most recent call last):\n",
      "  File \"C:\\Users\\njeri\\anaconda3\\lib\\site-packages\\sklearn\\model_selection\\_validation.py\", line 680, in _fit_and_score\n",
      "    execution. Reducing this number can be useful to avoid an\n",
      "  File \"C:\\Users\\njeri\\anaconda3\\lib\\site-packages\\sklearn\\linear_model\\_logistic.py\", line 1461, in fit\n",
      "    Parameters\n",
      "  File \"C:\\Users\\njeri\\anaconda3\\lib\\site-packages\\sklearn\\linear_model\\_logistic.py\", line 457, in _check_solver\n",
      "    )\n",
      "ValueError: Only 'saga' solver supports elasticnet penalty, got solver=liblinear.\n",
      "\n",
      "--------------------------------------------------------------------------------\n",
      "1050 fits failed with the following error:\n",
      "Traceback (most recent call last):\n",
      "  File \"C:\\Users\\njeri\\anaconda3\\lib\\site-packages\\sklearn\\model_selection\\_validation.py\", line 680, in _fit_and_score\n",
      "    execution. Reducing this number can be useful to avoid an\n",
      "  File \"C:\\Users\\njeri\\anaconda3\\lib\\site-packages\\sklearn\\linear_model\\_logistic.py\", line 1461, in fit\n",
      "    Parameters\n",
      "  File \"C:\\Users\\njeri\\anaconda3\\lib\\site-packages\\sklearn\\linear_model\\_logistic.py\", line 447, in _check_solver\n",
      "    raise ValueError(\"Solver %s supports only \"\n",
      "ValueError: Solver sag supports only 'l2' or 'none' penalties, got elasticnet penalty.\n",
      "\n",
      "--------------------------------------------------------------------------------\n",
      "1050 fits failed with the following error:\n",
      "Traceback (most recent call last):\n",
      "  File \"C:\\Users\\njeri\\anaconda3\\lib\\site-packages\\sklearn\\model_selection\\_validation.py\", line 680, in _fit_and_score\n",
      "    execution. Reducing this number can be useful to avoid an\n",
      "  File \"C:\\Users\\njeri\\anaconda3\\lib\\site-packages\\sklearn\\linear_model\\_logistic.py\", line 1471, in fit\n",
      "    Array of weights that are assigned to individual samples.\n",
      "ValueError: l1_ratio must be between 0 and 1; got (l1_ratio=None)\n",
      "\n",
      "  \n"
     ]
    }
   ],
   "source": [
    "#create model and tune parameters using gridsearch\n",
    "model = LogisticRegression(max_iter=2000,class_weight='balanced')\n",
    "grid = dict(solver=solvers,penalty=penalty,C=c_values)\n",
    "cv = RepeatedStratifiedKFold(n_splits=15, n_repeats=10, random_state=1)\n",
    "grid_search = GridSearchCV(estimator=model, param_grid=grid, cv=cv, scoring='accuracy',error_score=0)\n",
    "grid_result = grid_search.fit(X_age, y_train)\n",
    "#output best parameters\n",
    "print(\"Best: %f using %s\" % (grid_result.best_score_, grid_result.best_params_))"
   ]
  },
  {
   "cell_type": "markdown",
   "id": "202139d4",
   "metadata": {},
   "source": [
    "## age model hypertuned & features selected"
   ]
  },
  {
   "cell_type": "code",
   "execution_count": 203,
   "id": "02e2f6d1",
   "metadata": {},
   "outputs": [
    {
     "name": "stdout",
     "output_type": "stream",
     "text": [
      "              precision    recall  f1-score   support\n",
      "\n",
      "         0.0       0.29      0.43      0.35        21\n",
      "         1.0       0.35      0.36      0.36        33\n",
      "         2.0       0.48      0.45      0.47        31\n",
      "         3.0       0.54      0.32      0.40        22\n",
      "\n",
      "    accuracy                           0.39       107\n",
      "   macro avg       0.42      0.39      0.39       107\n",
      "weighted avg       0.42      0.39      0.40       107\n",
      "\n",
      "Model F1 Score  0.39252336448598124\n"
     ]
    }
   ],
   "source": [
    "#create model with tuned parameter, fit and calculate accuracy\n",
    "model_age = LogisticRegression(penalty = 'l2', solver = 'liblinear', C = 1, max_iter = 1000,class_weight='balanced')\n",
    "model_age.fit(X_age,y_train)\n",
    "pred = model_age.predict(X_test)\n",
    "print(classification_report(y_test, pred))\n",
    "print(\"Model F1 Score \", f1_score(y_test, pred, average = 'micro'))"
   ]
  },
  {
   "cell_type": "code",
   "execution_count": 24,
   "id": "125f1400",
   "metadata": {},
   "outputs": [
    {
     "name": "stdout",
     "output_type": "stream",
     "text": [
      "Baseline: 34.67% (2.59%)\n",
      "              precision    recall  f1-score   support\n",
      "\n",
      "         0.0       0.22      0.33      0.26        21\n",
      "         1.0       0.38      0.42      0.40        33\n",
      "         2.0       0.50      0.29      0.37        31\n",
      "         3.0       0.40      0.36      0.38        22\n",
      "\n",
      "    accuracy                           0.36       107\n",
      "   macro avg       0.37      0.35      0.35       107\n",
      "weighted avg       0.39      0.36      0.36       107\n",
      "\n",
      "Model F1 Score  0.35514018691588783\n"
     ]
    }
   ],
   "source": [
    "#create model with tuned parameter, fit and calculate accuracy - kfold cross validation to verify baseline accuracy\n",
    "\n",
    "model_age = LogisticRegression(penalty = 'l2', solver = 'liblinear', C = 1, max_iter = 1000,class_weight='balanced')\n",
    "kfold = StratifiedKFold(n_splits=10, shuffle=True)\n",
    "results = cross_val_score(model_age, X_age, y_train, cv=kfold)\n",
    "print(\"Baseline: %.2f%% (%.2f%%)\" % (results.mean()*100, results.std()*100))\n",
    "model_age.fit(X_age, y_train)\n",
    "pred = model_age.predict(X_test)\n",
    "print(classification_report(y_test, pred))\n",
    "print(\"Model F1 Score \", f1_score(y_test, pred, average = 'micro'))"
   ]
  },
  {
   "cell_type": "markdown",
   "id": "14abe094",
   "metadata": {},
   "source": [
    "# SEX"
   ]
  },
  {
   "cell_type": "code",
   "execution_count": 28,
   "id": "76f3bdbf",
   "metadata": {},
   "outputs": [],
   "source": [
    "#select top 50 variables relevant in predicting sex\n",
    "temp = df_sex_cols.nlargest(50,'fs_score')\n",
    "cols_sex = temp['col_name'].tolist()"
   ]
  },
  {
   "cell_type": "code",
   "execution_count": 109,
   "id": "3072531e",
   "metadata": {},
   "outputs": [],
   "source": [
    "#split data into train and test and scale\n",
    "X_train, X_test, y_train, y_test = train_test_split(df_metrics[cols_sex], yg, test_size=0.2,random_state=131) \n",
    "y_train = le.fit_transform(y_train)\n",
    "sc = StandardScaler()\n",
    "X_train = sc.fit_transform(X_train)\n",
    "X_test = sc.transform(X_test)"
   ]
  },
  {
   "cell_type": "code",
   "execution_count": 154,
   "id": "db9e08d7",
   "metadata": {},
   "outputs": [
    {
     "name": "stderr",
     "output_type": "stream",
     "text": [
      "[Parallel(n_jobs=1)]: Using backend SequentialBackend with 1 concurrent workers.\n",
      "[Parallel(n_jobs=1)]: Done   1 out of   1 | elapsed:    2.8s remaining:    0.0s\n",
      "[Parallel(n_jobs=1)]: Done  50 out of  50 | elapsed:    4.7s finished\n",
      "\n",
      "[2022-06-26 23:37:27] Features: 1/50 -- score: 0.5877701778385773[Parallel(n_jobs=1)]: Using backend SequentialBackend with 1 concurrent workers.\n",
      "[Parallel(n_jobs=1)]: Done   1 out of   1 | elapsed:    0.0s remaining:    0.0s\n",
      "[Parallel(n_jobs=1)]: Done  49 out of  49 | elapsed:    2.4s finished\n",
      "\n",
      "[2022-06-26 23:37:30] Features: 2/50 -- score: 0.5971545827633379[Parallel(n_jobs=1)]: Using backend SequentialBackend with 1 concurrent workers.\n",
      "[Parallel(n_jobs=1)]: Done   1 out of   1 | elapsed:    0.0s remaining:    0.0s\n",
      "[Parallel(n_jobs=1)]: Done  48 out of  48 | elapsed:    2.7s finished\n",
      "\n",
      "[2022-06-26 23:37:32] Features: 3/50 -- score: 0.6042407660738714[Parallel(n_jobs=1)]: Using backend SequentialBackend with 1 concurrent workers.\n",
      "[Parallel(n_jobs=1)]: Done   1 out of   1 | elapsed:    0.0s remaining:    0.0s\n",
      "[Parallel(n_jobs=1)]: Done  47 out of  47 | elapsed:    2.8s finished\n",
      "\n",
      "[2022-06-26 23:37:35] Features: 4/50 -- score: 0.6042407660738714[Parallel(n_jobs=1)]: Using backend SequentialBackend with 1 concurrent workers.\n",
      "[Parallel(n_jobs=1)]: Done   1 out of   1 | elapsed:    0.0s remaining:    0.0s\n",
      "[Parallel(n_jobs=1)]: Done  46 out of  46 | elapsed:    3.4s finished\n",
      "\n",
      "[2022-06-26 23:37:39] Features: 5/50 -- score: 0.594829001367989[Parallel(n_jobs=1)]: Using backend SequentialBackend with 1 concurrent workers.\n",
      "[Parallel(n_jobs=1)]: Done   1 out of   1 | elapsed:    0.0s remaining:    0.0s\n",
      "[Parallel(n_jobs=1)]: Done  45 out of  45 | elapsed:    3.6s finished\n",
      "\n",
      "[2022-06-26 23:37:43] Features: 6/50 -- score: 0.5994254445964432[Parallel(n_jobs=1)]: Using backend SequentialBackend with 1 concurrent workers.\n",
      "[Parallel(n_jobs=1)]: Done   1 out of   1 | elapsed:    0.0s remaining:    0.0s\n",
      "[Parallel(n_jobs=1)]: Done  44 out of  44 | elapsed:    3.9s finished\n",
      "\n",
      "[2022-06-26 23:37:47] Features: 7/50 -- score: 0.6087551299589603[Parallel(n_jobs=1)]: Using backend SequentialBackend with 1 concurrent workers.\n",
      "[Parallel(n_jobs=1)]: Done   1 out of   1 | elapsed:    0.0s remaining:    0.0s\n",
      "[Parallel(n_jobs=1)]: Done  43 out of  43 | elapsed:    4.5s finished\n",
      "\n",
      "[2022-06-26 23:37:51] Features: 8/50 -- score: 0.6064295485636115[Parallel(n_jobs=1)]: Using backend SequentialBackend with 1 concurrent workers.\n",
      "[Parallel(n_jobs=1)]: Done   1 out of   1 | elapsed:    0.0s remaining:    0.0s\n",
      "[Parallel(n_jobs=1)]: Done  42 out of  42 | elapsed:    4.4s finished\n",
      "\n",
      "[2022-06-26 23:37:56] Features: 9/50 -- score: 0.6064295485636115[Parallel(n_jobs=1)]: Using backend SequentialBackend with 1 concurrent workers.\n",
      "[Parallel(n_jobs=1)]: Done   1 out of   1 | elapsed:    0.0s remaining:    0.0s\n",
      "[Parallel(n_jobs=1)]: Done  41 out of  41 | elapsed:    4.2s finished\n",
      "\n",
      "[2022-06-26 23:38:00] Features: 10/50 -- score: 0.6064021887824897[Parallel(n_jobs=1)]: Using backend SequentialBackend with 1 concurrent workers.\n",
      "[Parallel(n_jobs=1)]: Done   1 out of   1 | elapsed:    0.0s remaining:    0.0s\n",
      "[Parallel(n_jobs=1)]: Done  40 out of  40 | elapsed:    4.6s finished\n",
      "\n",
      "[2022-06-26 23:38:05] Features: 11/50 -- score: 0.6086456908344733[Parallel(n_jobs=1)]: Using backend SequentialBackend with 1 concurrent workers.\n",
      "[Parallel(n_jobs=1)]: Done   1 out of   1 | elapsed:    0.0s remaining:    0.0s\n",
      "[Parallel(n_jobs=1)]: Done  39 out of  39 | elapsed:    5.3s finished\n",
      "\n",
      "[2022-06-26 23:38:10] Features: 12/50 -- score: 0.618030095759234[Parallel(n_jobs=1)]: Using backend SequentialBackend with 1 concurrent workers.\n",
      "[Parallel(n_jobs=1)]: Done   1 out of   1 | elapsed:    0.0s remaining:    0.0s\n",
      "[Parallel(n_jobs=1)]: Done  38 out of  38 | elapsed:    6.0s finished\n",
      "\n",
      "[2022-06-26 23:38:16] Features: 13/50 -- score: 0.6180027359781122[Parallel(n_jobs=1)]: Using backend SequentialBackend with 1 concurrent workers.\n",
      "[Parallel(n_jobs=1)]: Done   1 out of   1 | elapsed:    0.0s remaining:    0.0s\n",
      "[Parallel(n_jobs=1)]: Done  37 out of  37 | elapsed:    5.8s finished\n",
      "\n",
      "[2022-06-26 23:38:22] Features: 14/50 -- score: 0.6179753761969904[Parallel(n_jobs=1)]: Using backend SequentialBackend with 1 concurrent workers.\n",
      "[Parallel(n_jobs=1)]: Done   1 out of   1 | elapsed:    0.1s remaining:    0.0s\n",
      "[Parallel(n_jobs=1)]: Done  36 out of  36 | elapsed:    6.1s finished\n",
      "\n",
      "[2022-06-26 23:38:29] Features: 15/50 -- score: 0.6226812585499315[Parallel(n_jobs=1)]: Using backend SequentialBackend with 1 concurrent workers.\n",
      "[Parallel(n_jobs=1)]: Done   1 out of   1 | elapsed:    0.1s remaining:    0.0s\n",
      "[Parallel(n_jobs=1)]: Done  35 out of  35 | elapsed:    5.8s finished\n",
      "\n",
      "[2022-06-26 23:38:34] Features: 16/50 -- score: 0.6204651162790698[Parallel(n_jobs=1)]: Using backend SequentialBackend with 1 concurrent workers.\n",
      "[Parallel(n_jobs=1)]: Done   1 out of   1 | elapsed:    0.1s remaining:    0.0s\n",
      "[Parallel(n_jobs=1)]: Done  34 out of  34 | elapsed:    5.5s finished\n",
      "\n",
      "[2022-06-26 23:38:40] Features: 17/50 -- score: 0.6251162790697674[Parallel(n_jobs=1)]: Using backend SequentialBackend with 1 concurrent workers.\n",
      "[Parallel(n_jobs=1)]: Done   1 out of   1 | elapsed:    0.0s remaining:    0.0s\n",
      "[Parallel(n_jobs=1)]: Done  33 out of  33 | elapsed:    5.1s finished\n",
      "\n",
      "[2022-06-26 23:38:45] Features: 18/50 -- score: 0.6298495212038304[Parallel(n_jobs=1)]: Using backend SequentialBackend with 1 concurrent workers.\n",
      "[Parallel(n_jobs=1)]: Done   1 out of   1 | elapsed:    0.1s remaining:    0.0s\n",
      "[Parallel(n_jobs=1)]: Done  32 out of  32 | elapsed:    4.8s finished\n",
      "\n",
      "[2022-06-26 23:38:50] Features: 19/50 -- score: 0.6274965800273599[Parallel(n_jobs=1)]: Using backend SequentialBackend with 1 concurrent workers.\n",
      "[Parallel(n_jobs=1)]: Done   1 out of   1 | elapsed:    0.1s remaining:    0.0s\n",
      "[Parallel(n_jobs=1)]: Done  31 out of  31 | elapsed:    5.4s finished\n",
      "\n",
      "[2022-06-26 23:38:56] Features: 20/50 -- score: 0.6251162790697674[Parallel(n_jobs=1)]: Using backend SequentialBackend with 1 concurrent workers.\n",
      "[Parallel(n_jobs=1)]: Done   1 out of   1 | elapsed:    0.1s remaining:    0.0s\n",
      "[Parallel(n_jobs=1)]: Done  30 out of  30 | elapsed:    6.4s finished\n",
      "\n",
      "[2022-06-26 23:39:02] Features: 21/50 -- score: 0.620437756497948[Parallel(n_jobs=1)]: Using backend SequentialBackend with 1 concurrent workers.\n",
      "[Parallel(n_jobs=1)]: Done   1 out of   1 | elapsed:    0.1s remaining:    0.0s\n",
      "[Parallel(n_jobs=1)]: Done  29 out of  29 | elapsed:    5.8s finished\n",
      "\n",
      "[2022-06-26 23:39:08] Features: 22/50 -- score: 0.6180848153214774[Parallel(n_jobs=1)]: Using backend SequentialBackend with 1 concurrent workers.\n",
      "[Parallel(n_jobs=1)]: Done   1 out of   1 | elapsed:    0.2s remaining:    0.0s\n",
      "[Parallel(n_jobs=1)]: Done  28 out of  28 | elapsed:    5.7s finished\n",
      "\n",
      "[2022-06-26 23:39:14] Features: 23/50 -- score: 0.6180574555403557[Parallel(n_jobs=1)]: Using backend SequentialBackend with 1 concurrent workers.\n",
      "[Parallel(n_jobs=1)]: Done   1 out of   1 | elapsed:    0.2s remaining:    0.0s\n",
      "[Parallel(n_jobs=1)]: Done  27 out of  27 | elapsed:    6.0s finished\n",
      "\n",
      "[2022-06-26 23:39:20] Features: 24/50 -- score: 0.6157592339261286[Parallel(n_jobs=1)]: Using backend SequentialBackend with 1 concurrent workers.\n",
      "[Parallel(n_jobs=1)]: Done   1 out of   1 | elapsed:    0.2s remaining:    0.0s\n",
      "[Parallel(n_jobs=1)]: Done  26 out of  26 | elapsed:    6.1s finished\n",
      "\n",
      "[2022-06-26 23:39:26] Features: 25/50 -- score: 0.6087824897400821[Parallel(n_jobs=1)]: Using backend SequentialBackend with 1 concurrent workers.\n",
      "[Parallel(n_jobs=1)]: Done   1 out of   1 | elapsed:    0.2s remaining:    0.0s\n",
      "[Parallel(n_jobs=1)]: Done  25 out of  25 | elapsed:    5.6s finished\n",
      "\n",
      "[2022-06-26 23:39:32] Features: 26/50 -- score: 0.6087277701778386[Parallel(n_jobs=1)]: Using backend SequentialBackend with 1 concurrent workers.\n",
      "[Parallel(n_jobs=1)]: Done   1 out of   1 | elapsed:    0.2s remaining:    0.0s\n",
      "[Parallel(n_jobs=1)]: Done  24 out of  24 | elapsed:    5.6s finished\n",
      "\n",
      "[2022-06-26 23:39:38] Features: 27/50 -- score: 0.6110807113543092[Parallel(n_jobs=1)]: Using backend SequentialBackend with 1 concurrent workers.\n",
      "[Parallel(n_jobs=1)]: Done   1 out of   1 | elapsed:    0.2s remaining:    0.0s\n"
     ]
    },
    {
     "name": "stderr",
     "output_type": "stream",
     "text": [
      "[Parallel(n_jobs=1)]: Done  23 out of  23 | elapsed:    5.6s finished\n",
      "\n",
      "[2022-06-26 23:39:43] Features: 28/50 -- score: 0.6087277701778386[Parallel(n_jobs=1)]: Using backend SequentialBackend with 1 concurrent workers.\n",
      "[Parallel(n_jobs=1)]: Done   1 out of   1 | elapsed:    0.2s remaining:    0.0s\n",
      "[Parallel(n_jobs=1)]: Done  22 out of  22 | elapsed:    7.8s finished\n",
      "\n",
      "[2022-06-26 23:39:51] Features: 29/50 -- score: 0.6016963064295486[Parallel(n_jobs=1)]: Using backend SequentialBackend with 1 concurrent workers.\n",
      "[Parallel(n_jobs=1)]: Done   1 out of   1 | elapsed:    0.2s remaining:    0.0s\n",
      "[Parallel(n_jobs=1)]: Done  21 out of  21 | elapsed:    5.0s finished\n",
      "\n",
      "[2022-06-26 23:39:56] Features: 30/50 -- score: 0.5946648426812586[Parallel(n_jobs=1)]: Using backend SequentialBackend with 1 concurrent workers.\n",
      "[Parallel(n_jobs=1)]: Done   1 out of   1 | elapsed:    0.1s remaining:    0.0s\n",
      "[Parallel(n_jobs=1)]: Done  20 out of  20 | elapsed:    4.5s finished\n",
      "\n",
      "[2022-06-26 23:40:01] Features: 31/50 -- score: 0.592311901504788[Parallel(n_jobs=1)]: Using backend SequentialBackend with 1 concurrent workers.\n",
      "[Parallel(n_jobs=1)]: Done   1 out of   1 | elapsed:    0.2s remaining:    0.0s\n",
      "[Parallel(n_jobs=1)]: Done  19 out of  19 | elapsed:    4.9s finished\n",
      "\n",
      "[2022-06-26 23:40:06] Features: 32/50 -- score: 0.5876607387140902[Parallel(n_jobs=1)]: Using backend SequentialBackend with 1 concurrent workers.\n",
      "[Parallel(n_jobs=1)]: Done   1 out of   1 | elapsed:    0.2s remaining:    0.0s\n",
      "[Parallel(n_jobs=1)]: Done  18 out of  18 | elapsed:    4.3s finished\n",
      "\n",
      "[2022-06-26 23:40:10] Features: 33/50 -- score: 0.5852257181942544[Parallel(n_jobs=1)]: Using backend SequentialBackend with 1 concurrent workers.\n",
      "[Parallel(n_jobs=1)]: Done   1 out of   1 | elapsed:    0.2s remaining:    0.0s\n",
      "[Parallel(n_jobs=1)]: Done  17 out of  17 | elapsed:    4.5s finished\n",
      "\n",
      "[2022-06-26 23:40:15] Features: 34/50 -- score: 0.585280437756498[Parallel(n_jobs=1)]: Using backend SequentialBackend with 1 concurrent workers.\n",
      "[Parallel(n_jobs=1)]: Done   1 out of   1 | elapsed:    0.2s remaining:    0.0s\n",
      "[Parallel(n_jobs=1)]: Done  16 out of  16 | elapsed:    4.4s finished\n",
      "\n",
      "[2022-06-26 23:40:19] Features: 35/50 -- score: 0.5829548563611491[Parallel(n_jobs=1)]: Using backend SequentialBackend with 1 concurrent workers.\n",
      "[Parallel(n_jobs=1)]: Done   1 out of   1 | elapsed:    0.2s remaining:    0.0s\n",
      "[Parallel(n_jobs=1)]: Done  15 out of  15 | elapsed:    4.3s finished\n",
      "\n",
      "[2022-06-26 23:40:24] Features: 36/50 -- score: 0.5829548563611491[Parallel(n_jobs=1)]: Using backend SequentialBackend with 1 concurrent workers.\n",
      "[Parallel(n_jobs=1)]: Done   1 out of   1 | elapsed:    0.1s remaining:    0.0s\n",
      "[Parallel(n_jobs=1)]: Done  14 out of  14 | elapsed:    3.2s finished\n",
      "\n",
      "[2022-06-26 23:40:27] Features: 37/50 -- score: 0.5853077975376196[Parallel(n_jobs=1)]: Using backend SequentialBackend with 1 concurrent workers.\n",
      "[Parallel(n_jobs=1)]: Done   1 out of   1 | elapsed:    0.2s remaining:    0.0s\n",
      "[Parallel(n_jobs=1)]: Done  13 out of  13 | elapsed:    3.3s finished\n",
      "\n",
      "[2022-06-26 23:40:30] Features: 38/50 -- score: 0.5829548563611491[Parallel(n_jobs=1)]: Using backend SequentialBackend with 1 concurrent workers.\n",
      "[Parallel(n_jobs=1)]: Done   1 out of   1 | elapsed:    0.2s remaining:    0.0s\n",
      "[Parallel(n_jobs=1)]: Done  12 out of  12 | elapsed:    3.4s finished\n",
      "\n",
      "[2022-06-26 23:40:34] Features: 39/50 -- score: 0.5829001367989056[Parallel(n_jobs=1)]: Using backend SequentialBackend with 1 concurrent workers.\n",
      "[Parallel(n_jobs=1)]: Done   1 out of   1 | elapsed:    0.2s remaining:    0.0s\n",
      "[Parallel(n_jobs=1)]: Done  11 out of  11 | elapsed:    3.2s finished\n",
      "\n",
      "[2022-06-26 23:40:37] Features: 40/50 -- score: 0.5900683994528044[Parallel(n_jobs=1)]: Using backend SequentialBackend with 1 concurrent workers.\n",
      "[Parallel(n_jobs=1)]: Done   1 out of   1 | elapsed:    0.2s remaining:    0.0s\n",
      "[Parallel(n_jobs=1)]: Done  10 out of  10 | elapsed:    2.6s finished\n",
      "\n",
      "[2022-06-26 23:40:40] Features: 41/50 -- score: 0.5900957592339261[Parallel(n_jobs=1)]: Using backend SequentialBackend with 1 concurrent workers.\n",
      "[Parallel(n_jobs=1)]: Done   1 out of   1 | elapsed:    0.2s remaining:    0.0s\n",
      "[Parallel(n_jobs=1)]: Done   9 out of   9 | elapsed:    2.3s finished\n",
      "\n",
      "[2022-06-26 23:40:42] Features: 42/50 -- score: 0.5900957592339261[Parallel(n_jobs=1)]: Using backend SequentialBackend with 1 concurrent workers.\n",
      "[Parallel(n_jobs=1)]: Done   1 out of   1 | elapsed:    0.1s remaining:    0.0s\n",
      "[Parallel(n_jobs=1)]: Done   8 out of   8 | elapsed:    1.7s finished\n",
      "\n",
      "[2022-06-26 23:40:44] Features: 43/50 -- score: 0.5877428180574555[Parallel(n_jobs=1)]: Using backend SequentialBackend with 1 concurrent workers.\n",
      "[Parallel(n_jobs=1)]: Done   1 out of   1 | elapsed:    0.2s remaining:    0.0s\n",
      "[Parallel(n_jobs=1)]: Done   7 out of   7 | elapsed:    1.8s finished\n",
      "\n",
      "[2022-06-26 23:40:46] Features: 44/50 -- score: 0.5900683994528044[Parallel(n_jobs=1)]: Using backend SequentialBackend with 1 concurrent workers.\n",
      "[Parallel(n_jobs=1)]: Done   1 out of   1 | elapsed:    0.3s remaining:    0.0s\n",
      "[Parallel(n_jobs=1)]: Done   6 out of   6 | elapsed:    1.7s finished\n",
      "\n",
      "[2022-06-26 23:40:48] Features: 45/50 -- score: 0.5970998632010944[Parallel(n_jobs=1)]: Using backend SequentialBackend with 1 concurrent workers.\n",
      "[Parallel(n_jobs=1)]: Done   1 out of   1 | elapsed:    0.3s remaining:    0.0s\n",
      "[Parallel(n_jobs=1)]: Done   5 out of   5 | elapsed:    1.4s finished\n",
      "\n",
      "[2022-06-26 23:40:49] Features: 46/50 -- score: 0.5970998632010944[Parallel(n_jobs=1)]: Using backend SequentialBackend with 1 concurrent workers.\n",
      "[Parallel(n_jobs=1)]: Done   1 out of   1 | elapsed:    0.2s remaining:    0.0s\n",
      "[Parallel(n_jobs=1)]: Done   4 out of   4 | elapsed:    1.1s finished\n",
      "\n",
      "[2022-06-26 23:40:50] Features: 47/50 -- score: 0.5970998632010944[Parallel(n_jobs=1)]: Using backend SequentialBackend with 1 concurrent workers.\n",
      "[Parallel(n_jobs=1)]: Done   1 out of   1 | elapsed:    0.1s remaining:    0.0s\n",
      "[Parallel(n_jobs=1)]: Done   3 out of   3 | elapsed:    0.8s finished\n",
      "\n",
      "[2022-06-26 23:40:51] Features: 48/50 -- score: 0.592421340629275[Parallel(n_jobs=1)]: Using backend SequentialBackend with 1 concurrent workers.\n",
      "[Parallel(n_jobs=1)]: Done   1 out of   1 | elapsed:    0.3s remaining:    0.0s\n",
      "[Parallel(n_jobs=1)]: Done   2 out of   2 | elapsed:    0.6s finished\n",
      "\n",
      "[2022-06-26 23:40:52] Features: 49/50 -- score: 0.5923939808481532[Parallel(n_jobs=1)]: Using backend SequentialBackend with 1 concurrent workers.\n",
      "[Parallel(n_jobs=1)]: Done   1 out of   1 | elapsed:    0.3s remaining:    0.0s\n",
      "[Parallel(n_jobs=1)]: Done   1 out of   1 | elapsed:    0.3s finished\n",
      "\n",
      "[2022-06-26 23:40:52] Features: 50/50 -- score: 0.5783036935704515"
     ]
    }
   ],
   "source": [
    "#select features using sequential forward feature selection\n",
    "sfs3 = sfs(lreg, k_features=50, forward=True, verbose=2, scoring='accuracy')\n",
    "sfs3 = sfs3.fit(X_train, y_train);"
   ]
  },
  {
   "cell_type": "code",
   "execution_count": 172,
   "id": "2d1e8e25",
   "metadata": {},
   "outputs": [
    {
     "name": "stderr",
     "output_type": "stream",
     "text": [
      "[Parallel(n_jobs=1)]: Using backend SequentialBackend with 1 concurrent workers.\n",
      "[Parallel(n_jobs=1)]: Done   1 out of   1 | elapsed:    0.2s remaining:    0.0s\n",
      "[Parallel(n_jobs=1)]: Done  50 out of  50 | elapsed:    2.0s finished\n",
      "\n",
      "[2022-06-26 23:48:27] Features: 1/7 -- score: 0.5877701778385773[Parallel(n_jobs=1)]: Using backend SequentialBackend with 1 concurrent workers.\n",
      "[Parallel(n_jobs=1)]: Done   1 out of   1 | elapsed:    0.0s remaining:    0.0s\n",
      "[Parallel(n_jobs=1)]: Done  49 out of  49 | elapsed:    2.3s finished\n",
      "\n",
      "[2022-06-26 23:48:30] Features: 2/7 -- score: 0.5971545827633379[Parallel(n_jobs=1)]: Using backend SequentialBackend with 1 concurrent workers.\n",
      "[Parallel(n_jobs=1)]: Done   1 out of   1 | elapsed:    0.0s remaining:    0.0s\n",
      "[Parallel(n_jobs=1)]: Done  48 out of  48 | elapsed:    2.8s finished\n",
      "\n",
      "[2022-06-26 23:48:33] Features: 3/7 -- score: 0.6042407660738714[Parallel(n_jobs=1)]: Using backend SequentialBackend with 1 concurrent workers.\n",
      "[Parallel(n_jobs=1)]: Done   1 out of   1 | elapsed:    0.0s remaining:    0.0s\n",
      "[Parallel(n_jobs=1)]: Done  47 out of  47 | elapsed:    3.0s finished\n",
      "\n",
      "[2022-06-26 23:48:36] Features: 4/7 -- score: 0.6042407660738714[Parallel(n_jobs=1)]: Using backend SequentialBackend with 1 concurrent workers.\n",
      "[Parallel(n_jobs=1)]: Done   1 out of   1 | elapsed:    0.0s remaining:    0.0s\n",
      "[Parallel(n_jobs=1)]: Done  46 out of  46 | elapsed:    3.7s finished\n",
      "\n",
      "[2022-06-26 23:48:40] Features: 5/7 -- score: 0.594829001367989[Parallel(n_jobs=1)]: Using backend SequentialBackend with 1 concurrent workers.\n",
      "[Parallel(n_jobs=1)]: Done   1 out of   1 | elapsed:    0.0s remaining:    0.0s\n",
      "[Parallel(n_jobs=1)]: Done  45 out of  45 | elapsed:    3.5s finished\n",
      "\n",
      "[2022-06-26 23:48:43] Features: 6/7 -- score: 0.5994254445964432[Parallel(n_jobs=1)]: Using backend SequentialBackend with 1 concurrent workers.\n",
      "[Parallel(n_jobs=1)]: Done   1 out of   1 | elapsed:    0.0s remaining:    0.0s\n",
      "[Parallel(n_jobs=1)]: Done  44 out of  44 | elapsed:    3.7s finished\n",
      "\n",
      "[2022-06-26 23:48:47] Features: 7/7 -- score: 0.6087551299589603"
     ]
    }
   ],
   "source": [
    "#7 features selected\n",
    "sfs4 = sfs(lreg, k_features=7, forward=True, verbose=2, scoring='accuracy')\n",
    "sfs4 = sfs4.fit(X_train, y_train);"
   ]
  },
  {
   "cell_type": "code",
   "execution_count": 173,
   "id": "dc0fe6f2",
   "metadata": {},
   "outputs": [
    {
     "name": "stdout",
     "output_type": "stream",
     "text": [
      "['0', '3', '20', '32', '33', '36', '38']\n"
     ]
    }
   ],
   "source": [
    "#get feature names of 7 relevant features\n",
    "feat_names = list(sfs4.k_feature_names_)\n",
    "print(feat_names)"
   ]
  },
  {
   "cell_type": "code",
   "execution_count": 106,
   "id": "719c3564",
   "metadata": {},
   "outputs": [],
   "source": [
    "feat_names = ['0', '3', '20', '32', '33', '36', '38']\n",
    "feat_num = [0, 3, 20, 32, 33, 36, 38]"
   ]
  },
  {
   "cell_type": "code",
   "execution_count": 110,
   "id": "9b0193b4",
   "metadata": {},
   "outputs": [],
   "source": [
    "#filter train and test to only 7 relevant variables\n",
    "X_gender = np.take(X_train, feat_names, axis = 1)\n",
    "X_test = np.take(X_test, feat_names, axis = 1)"
   ]
  },
  {
   "cell_type": "code",
   "execution_count": 185,
   "id": "6e76df57",
   "metadata": {},
   "outputs": [],
   "source": [
    "#set parameters for hypertuning\n",
    "solvers = ['newton-cg', 'lbfgs', 'liblinear', 'sag', 'saga']\n",
    "penalty = ['l2','l1', 'elasticnet']\n",
    "c_values = [100, 10, 1.0, 0.1, 0.01, 0.001, 0.0001]"
   ]
  },
  {
   "cell_type": "code",
   "execution_count": 186,
   "id": "07ef43e5",
   "metadata": {},
   "outputs": [
    {
     "name": "stdout",
     "output_type": "stream",
     "text": [
      "Best: 0.571568 using {'C': 0.1, 'penalty': 'l1', 'solver': 'liblinear'}\n"
     ]
    },
    {
     "name": "stderr",
     "output_type": "stream",
     "text": [
      "C:\\Users\\njeri\\anaconda3\\lib\\site-packages\\sklearn\\model_selection\\_validation.py:372: FitFailedWarning: \n",
      "8400 fits failed out of a total of 15750.\n",
      "The score on these train-test partitions for these parameters will be set to 0.\n",
      "If these failures are not expected, you can try to debug them by setting error_score='raise'.\n",
      "\n",
      "Below are more details about the failures:\n",
      "--------------------------------------------------------------------------------\n",
      "1050 fits failed with the following error:\n",
      "Traceback (most recent call last):\n",
      "  File \"C:\\Users\\njeri\\anaconda3\\lib\\site-packages\\sklearn\\model_selection\\_validation.py\", line 680, in _fit_and_score\n",
      "    execution. Reducing this number can be useful to avoid an\n",
      "  File \"C:\\Users\\njeri\\anaconda3\\lib\\site-packages\\sklearn\\linear_model\\_logistic.py\", line 1461, in fit\n",
      "    Parameters\n",
      "  File \"C:\\Users\\njeri\\anaconda3\\lib\\site-packages\\sklearn\\linear_model\\_logistic.py\", line 447, in _check_solver\n",
      "    raise ValueError(\"Solver %s supports only \"\n",
      "ValueError: Solver newton-cg supports only 'l2' or 'none' penalties, got l1 penalty.\n",
      "\n",
      "--------------------------------------------------------------------------------\n",
      "1050 fits failed with the following error:\n",
      "Traceback (most recent call last):\n",
      "  File \"C:\\Users\\njeri\\anaconda3\\lib\\site-packages\\sklearn\\model_selection\\_validation.py\", line 680, in _fit_and_score\n",
      "    execution. Reducing this number can be useful to avoid an\n",
      "  File \"C:\\Users\\njeri\\anaconda3\\lib\\site-packages\\sklearn\\linear_model\\_logistic.py\", line 1461, in fit\n",
      "    Parameters\n",
      "  File \"C:\\Users\\njeri\\anaconda3\\lib\\site-packages\\sklearn\\linear_model\\_logistic.py\", line 447, in _check_solver\n",
      "    raise ValueError(\"Solver %s supports only \"\n",
      "ValueError: Solver lbfgs supports only 'l2' or 'none' penalties, got l1 penalty.\n",
      "\n",
      "--------------------------------------------------------------------------------\n",
      "1050 fits failed with the following error:\n",
      "Traceback (most recent call last):\n",
      "  File \"C:\\Users\\njeri\\anaconda3\\lib\\site-packages\\sklearn\\model_selection\\_validation.py\", line 680, in _fit_and_score\n",
      "    execution. Reducing this number can be useful to avoid an\n",
      "  File \"C:\\Users\\njeri\\anaconda3\\lib\\site-packages\\sklearn\\linear_model\\_logistic.py\", line 1461, in fit\n",
      "    Parameters\n",
      "  File \"C:\\Users\\njeri\\anaconda3\\lib\\site-packages\\sklearn\\linear_model\\_logistic.py\", line 447, in _check_solver\n",
      "    raise ValueError(\"Solver %s supports only \"\n",
      "ValueError: Solver sag supports only 'l2' or 'none' penalties, got l1 penalty.\n",
      "\n",
      "--------------------------------------------------------------------------------\n",
      "1050 fits failed with the following error:\n",
      "Traceback (most recent call last):\n",
      "  File \"C:\\Users\\njeri\\anaconda3\\lib\\site-packages\\sklearn\\model_selection\\_validation.py\", line 680, in _fit_and_score\n",
      "    execution. Reducing this number can be useful to avoid an\n",
      "  File \"C:\\Users\\njeri\\anaconda3\\lib\\site-packages\\sklearn\\linear_model\\_logistic.py\", line 1461, in fit\n",
      "    Parameters\n",
      "  File \"C:\\Users\\njeri\\anaconda3\\lib\\site-packages\\sklearn\\linear_model\\_logistic.py\", line 447, in _check_solver\n",
      "    raise ValueError(\"Solver %s supports only \"\n",
      "ValueError: Solver newton-cg supports only 'l2' or 'none' penalties, got elasticnet penalty.\n",
      "\n",
      "--------------------------------------------------------------------------------\n",
      "1050 fits failed with the following error:\n",
      "Traceback (most recent call last):\n",
      "  File \"C:\\Users\\njeri\\anaconda3\\lib\\site-packages\\sklearn\\model_selection\\_validation.py\", line 680, in _fit_and_score\n",
      "    execution. Reducing this number can be useful to avoid an\n",
      "  File \"C:\\Users\\njeri\\anaconda3\\lib\\site-packages\\sklearn\\linear_model\\_logistic.py\", line 1461, in fit\n",
      "    Parameters\n",
      "  File \"C:\\Users\\njeri\\anaconda3\\lib\\site-packages\\sklearn\\linear_model\\_logistic.py\", line 447, in _check_solver\n",
      "    raise ValueError(\"Solver %s supports only \"\n",
      "ValueError: Solver lbfgs supports only 'l2' or 'none' penalties, got elasticnet penalty.\n",
      "\n",
      "--------------------------------------------------------------------------------\n",
      "1050 fits failed with the following error:\n",
      "Traceback (most recent call last):\n",
      "  File \"C:\\Users\\njeri\\anaconda3\\lib\\site-packages\\sklearn\\model_selection\\_validation.py\", line 680, in _fit_and_score\n",
      "    execution. Reducing this number can be useful to avoid an\n",
      "  File \"C:\\Users\\njeri\\anaconda3\\lib\\site-packages\\sklearn\\linear_model\\_logistic.py\", line 1461, in fit\n",
      "    Parameters\n",
      "  File \"C:\\Users\\njeri\\anaconda3\\lib\\site-packages\\sklearn\\linear_model\\_logistic.py\", line 457, in _check_solver\n",
      "    )\n",
      "ValueError: Only 'saga' solver supports elasticnet penalty, got solver=liblinear.\n",
      "\n",
      "--------------------------------------------------------------------------------\n",
      "1050 fits failed with the following error:\n",
      "Traceback (most recent call last):\n",
      "  File \"C:\\Users\\njeri\\anaconda3\\lib\\site-packages\\sklearn\\model_selection\\_validation.py\", line 680, in _fit_and_score\n",
      "    execution. Reducing this number can be useful to avoid an\n",
      "  File \"C:\\Users\\njeri\\anaconda3\\lib\\site-packages\\sklearn\\linear_model\\_logistic.py\", line 1461, in fit\n",
      "    Parameters\n",
      "  File \"C:\\Users\\njeri\\anaconda3\\lib\\site-packages\\sklearn\\linear_model\\_logistic.py\", line 447, in _check_solver\n",
      "    raise ValueError(\"Solver %s supports only \"\n",
      "ValueError: Solver sag supports only 'l2' or 'none' penalties, got elasticnet penalty.\n",
      "\n",
      "--------------------------------------------------------------------------------\n",
      "1050 fits failed with the following error:\n",
      "Traceback (most recent call last):\n",
      "  File \"C:\\Users\\njeri\\anaconda3\\lib\\site-packages\\sklearn\\model_selection\\_validation.py\", line 680, in _fit_and_score\n",
      "    execution. Reducing this number can be useful to avoid an\n",
      "  File \"C:\\Users\\njeri\\anaconda3\\lib\\site-packages\\sklearn\\linear_model\\_logistic.py\", line 1471, in fit\n",
      "    Array of weights that are assigned to individual samples.\n",
      "ValueError: l1_ratio must be between 0 and 1; got (l1_ratio=None)\n",
      "\n",
      "  \n"
     ]
    }
   ],
   "source": [
    "#create model and run gridsearch to tune parameters\n",
    "model = LogisticRegression(max_iter=2000,class_weight='balanced')\n",
    "grid = dict(solver=solvers,penalty=penalty,C=c_values)\n",
    "cv = RepeatedStratifiedKFold(n_splits=15, n_repeats=10, random_state=1)\n",
    "grid_search = GridSearchCV(estimator=model, param_grid=grid, cv=cv, scoring='accuracy',error_score=0)\n",
    "grid_result = grid_search.fit(X_gender, y_train)\n",
    "\n",
    "#output selected parameters\n",
    "print(\"Best: %f using %s\" % (grid_result.best_score_, grid_result.best_params_))"
   ]
  },
  {
   "cell_type": "markdown",
   "id": "e6b8a18d",
   "metadata": {},
   "source": [
    "## sex model hypertuned & features selected"
   ]
  },
  {
   "cell_type": "code",
   "execution_count": 111,
   "id": "1bf5a627",
   "metadata": {
    "scrolled": true
   },
   "outputs": [
    {
     "name": "stdout",
     "output_type": "stream",
     "text": [
      "              precision    recall  f1-score   support\n",
      "\n",
      "           0       0.53      0.66      0.59        53\n",
      "           1       0.56      0.43      0.48        54\n",
      "\n",
      "    accuracy                           0.54       107\n",
      "   macro avg       0.55      0.54      0.54       107\n",
      "weighted avg       0.55      0.54      0.54       107\n",
      "\n",
      "Model F1 Score  0.5420560747663551\n"
     ]
    }
   ],
   "source": [
    "#create model with tuned parameters and calculate accuracy\n",
    "model_sex = LogisticRegression(penalty = 'l2', solver = 'liblinear', C = 0.1, max_iter = 1000,class_weight='balanced')\n",
    "model_sex.fit(X_gender,y_train)\n",
    "pred = model_sex.predict(X_test)\n",
    "print(classification_report(y_test, pred))\n",
    "print(\"Model F1 Score \", f1_score(y_test, pred, average = 'micro'))"
   ]
  },
  {
   "cell_type": "code",
   "execution_count": 20,
   "id": "7c9c224d",
   "metadata": {},
   "outputs": [
    {
     "name": "stdout",
     "output_type": "stream",
     "text": [
      "Baseline: 55.49% (9.37%)\n",
      "              precision    recall  f1-score   support\n",
      "\n",
      "           0       0.53      0.66      0.59        53\n",
      "           1       0.56      0.43      0.48        54\n",
      "\n",
      "    accuracy                           0.54       107\n",
      "   macro avg       0.55      0.54      0.54       107\n",
      "weighted avg       0.55      0.54      0.54       107\n",
      "\n",
      "Model F1 Score  0.5420560747663551\n"
     ]
    }
   ],
   "source": [
    "#run kfold cross validation to verify baseline training accuracy\n",
    "model_sex = LogisticRegression(penalty = 'l2', solver = 'liblinear', C = 0.1, max_iter = 1000,class_weight='balanced')\n",
    "kfold = StratifiedKFold(n_splits=10, shuffle=True)\n",
    "results = cross_val_score(model_sex, X_gender, y_train, cv=kfold)\n",
    "print(\"Baseline: %.2f%% (%.2f%%)\" % (results.mean()*100, results.std()*100))\n",
    "model_sex.fit(X_gender, y_train)\n",
    "pred = model_sex.predict(X_test)\n",
    "print(classification_report(y_test, pred))\n",
    "print(\"Model F1 Score \", f1_score(y_test, pred, average = 'micro'))"
   ]
  },
  {
   "cell_type": "code",
   "execution_count": 119,
   "id": "db8f5b6c",
   "metadata": {},
   "outputs": [],
   "source": [
    "#get column names of features used in model\n",
    "col_name_sex = temp.iloc[feat_num, 1].tolist()"
   ]
  },
  {
   "cell_type": "code",
   "execution_count": 120,
   "id": "65fbb435",
   "metadata": {},
   "outputs": [
    {
     "data": {
      "text/plain": [
       "['icf_cc', 'qss_auc', 'qss_sim', 'dva_ig', 'rare_nss', 'dva_sim', 'cvs_auc']"
      ]
     },
     "execution_count": 120,
     "metadata": {},
     "output_type": "execute_result"
    }
   ],
   "source": [
    "col_name_sex"
   ]
  },
  {
   "cell_type": "code",
   "execution_count": 121,
   "id": "c5454cf3",
   "metadata": {},
   "outputs": [
    {
     "data": {
      "text/plain": [
       "array([ 0.30412581,  0.14802472, -0.33759704,  0.03597867, -0.00416017,\n",
       "        0.0553091 , -0.10738364])"
      ]
     },
     "execution_count": 121,
     "metadata": {},
     "output_type": "execute_result"
    }
   ],
   "source": [
    "#check coefficients of sex model\n",
    "model_sex.coef_[0]"
   ]
  },
  {
   "cell_type": "code",
   "execution_count": 122,
   "id": "d0be463b",
   "metadata": {},
   "outputs": [
    {
     "data": {
      "text/html": [
       "<div>\n",
       "<style scoped>\n",
       "    .dataframe tbody tr th:only-of-type {\n",
       "        vertical-align: middle;\n",
       "    }\n",
       "\n",
       "    .dataframe tbody tr th {\n",
       "        vertical-align: top;\n",
       "    }\n",
       "\n",
       "    .dataframe thead th {\n",
       "        text-align: right;\n",
       "    }\n",
       "</style>\n",
       "<table border=\"1\" class=\"dataframe\">\n",
       "  <thead>\n",
       "    <tr style=\"text-align: right;\">\n",
       "      <th></th>\n",
       "      <th>0</th>\n",
       "      <th>1</th>\n",
       "      <th>2</th>\n",
       "      <th>3</th>\n",
       "      <th>4</th>\n",
       "      <th>5</th>\n",
       "      <th>6</th>\n",
       "    </tr>\n",
       "  </thead>\n",
       "  <tbody>\n",
       "    <tr>\n",
       "      <th>0</th>\n",
       "      <td>icf_cc</td>\n",
       "      <td>qss_auc</td>\n",
       "      <td>qss_sim</td>\n",
       "      <td>dva_ig</td>\n",
       "      <td>rare_nss</td>\n",
       "      <td>dva_sim</td>\n",
       "      <td>cvs_auc</td>\n",
       "    </tr>\n",
       "    <tr>\n",
       "      <th>1</th>\n",
       "      <td>0.304126</td>\n",
       "      <td>0.148025</td>\n",
       "      <td>-0.337597</td>\n",
       "      <td>0.035979</td>\n",
       "      <td>-0.00416</td>\n",
       "      <td>0.055309</td>\n",
       "      <td>-0.107384</td>\n",
       "    </tr>\n",
       "  </tbody>\n",
       "</table>\n",
       "</div>"
      ],
      "text/plain": [
       "          0         1         2         3         4         5         6\n",
       "0    icf_cc   qss_auc   qss_sim    dva_ig  rare_nss   dva_sim   cvs_auc\n",
       "1  0.304126  0.148025 -0.337597  0.035979  -0.00416  0.055309 -0.107384"
      ]
     },
     "execution_count": 122,
     "metadata": {},
     "output_type": "execute_result"
    }
   ],
   "source": [
    "#create data frame with coefficients and input variable names\n",
    "sex_coef = pd.DataFrame([col_name,model_sex.coef_[0]])\n",
    "sex_coef"
   ]
  },
  {
   "cell_type": "code",
   "execution_count": 84,
   "id": "d8b624a1",
   "metadata": {},
   "outputs": [
    {
     "data": {
      "text/plain": [
       "0.308411214953271"
      ]
     },
     "execution_count": 84,
     "metadata": {},
     "output_type": "execute_result"
    }
   ],
   "source": [
    "#baseline classifier - predict dominant class for age\n",
    "X_train, X_test, y_train, y_test = train_test_split(df_metrics[cols], df_metrics.age_class, test_size=0.2,random_state=131)\n",
    "dummy_clf_age = DummyClassifier(strategy='most_frequent')\n",
    "dummy_clf_age.fit(X_test, y_test)\n",
    "dummy_clf_age.score(X_test, y_test)"
   ]
  },
  {
   "cell_type": "code",
   "execution_count": null,
   "id": "eb020644",
   "metadata": {},
   "outputs": [],
   "source": [
    "#5x2 cv t test to compare age model to baseline classifier\n",
    "y = df_metrics['age_class']\n",
    "x = df_metrics[col_name]\n",
    "\n",
    "t, p = paired_ttest_5x2cv(estimator1=model,\n",
    "                          estimator2=dummy_clf_age,\n",
    "                          X=x, y=y,\n",
    "                          random_seed=1)\n",
    "\n",
    "print('t statistic: %.3f' % t)\n",
    "print('p value: %.3f' % p)"
   ]
  },
  {
   "cell_type": "code",
   "execution_count": null,
   "id": "c134304a",
   "metadata": {},
   "outputs": [],
   "source": [
    "#baseline classifier - predict dominant class for gender\n",
    "X_train, X_test, y_train, y_test = train_test_split(df_metrics[cols], df_metrics.gender_var, test_size=0.2,random_state=131)\n",
    "dummy_clf = DummyClassifier(strategy='most_frequent')\n",
    "dummy_clf.fit(X_test, y_test)\n",
    "dummy_clf.score(X_test, y_test)"
   ]
  },
  {
   "cell_type": "code",
   "execution_count": 125,
   "id": "07547ccb",
   "metadata": {},
   "outputs": [
    {
     "name": "stdout",
     "output_type": "stream",
     "text": [
      "t statistic: 0.368\n",
      "p value: 0.728\n"
     ]
    }
   ],
   "source": [
    "#5x2 cv t test to compare mo\n",
    "y = df_metrics['gender_var']\n",
    "x = df_metrics[col_name_sex]\n",
    "\n",
    "t, p = paired_ttest_5x2cv(estimator1=model_sex,\n",
    "                          estimator2=dummy_clf,\n",
    "                          X=x, y=y,\n",
    "                          random_seed=1)\n",
    "\n",
    "print('t statistic: %.3f' % t)\n",
    "print('p value: %.3f' % p)"
   ]
  },
  {
   "cell_type": "code",
   "execution_count": null,
   "id": "04e3079c",
   "metadata": {},
   "outputs": [],
   "source": []
  }
 ],
 "metadata": {
  "kernelspec": {
   "display_name": "Python 3 (ipykernel)",
   "language": "python",
   "name": "python3"
  },
  "language_info": {
   "codemirror_mode": {
    "name": "ipython",
    "version": 3
   },
   "file_extension": ".py",
   "mimetype": "text/x-python",
   "name": "python",
   "nbconvert_exporter": "python",
   "pygments_lexer": "ipython3",
   "version": "3.8.8"
  }
 },
 "nbformat": 4,
 "nbformat_minor": 5
}
